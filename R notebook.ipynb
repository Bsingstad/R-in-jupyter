{
 "cells": [
  {
   "cell_type": "markdown",
   "id": "3e43de2c",
   "metadata": {},
   "source": [
    "Oppgave 1:"
   ]
  },
  {
   "cell_type": "code",
   "execution_count": 1,
   "id": "36decb93",
   "metadata": {},
   "outputs": [
    {
     "name": "stderr",
     "output_type": "stream",
     "text": [
      "Your code contains a unicode char which cannot be displayed in your\n",
      "current locale and R will silently convert it to an escaped form when the\n",
      "R kernel executes this code. This can lead to subtle errors if you use\n",
      "such chars to do comparisons. For more information, please see\n",
      "https://github.com/IRkernel/repr/wiki/Problems-with-unicode-on-windows"
     ]
    },
    {
     "name": "stdout",
     "output_type": "stream",
     "text": [
      "[1] \"Gjennomsnittlig lån: 233.691\"\n",
      "[1] \"Testobservator (t-verdi): 1.56878721917758\"\n",
      "[1] \"p-verdi: 0.11701419549273\"\n"
     ]
    }
   ],
   "source": [
    "# a. Last opp subprime.csv i R\n",
    "data <- read.csv(\"subprime.csv\", sep = \";\", skip = 1)\n",
    "\n",
    "# b. Finn gjennomsnittlig loan.amount\n",
    "mean_loan <- mean(data$loan.amount)\n",
    "print(paste(\"Gjennomsnittlig lån:\", mean_loan))\n",
    "\n",
    "# c. Hypoteser:\n",
    "# H0: μ = 225\n",
    "# H1: μ ≠ 225 (tohalet test)\n",
    "\n",
    "# d. Finn testobservatoren\n",
    "t_test <- t.test(data$loan.amount, mu = 225, alternative = \"two.sided\")\n",
    "print(paste(\"Testobservator (t-verdi):\", t_test$statistic))\n",
    "\n",
    "# e. Finn p-verdien og tolk den\n",
    "print(paste(\"p-verdi:\", t_test$p.value))\n",
    "\n",
    "# Ekstra: Vis resultatet av hele testen\n"
   ]
  },
  {
   "cell_type": "markdown",
   "id": "8a462dd1",
   "metadata": {},
   "source": [
    "Oppgave 2:"
   ]
  },
  {
   "cell_type": "code",
   "execution_count": 2,
   "id": "28f88abf",
   "metadata": {},
   "outputs": [
    {
     "name": "stdout",
     "output_type": "stream",
     "text": [
      "Gj.sn. lån menn: 241.7079 \n",
      "Gj.sn. lån kvinner: 213.1779 \n",
      "Estimert forskjell: 28.52999 \n",
      "t-verdi: -2498.862 \n",
      "p-verdi: 1 \n",
      "Vi kan ikke forkaste H0 – ingen signifikant forskjell over 30.000.\n"
     ]
    }
   ],
   "source": [
    "# Last inn data\n",
    "data <- read.csv(\"subprime.csv\", sep = \";\", skip = 1)\n",
    "\n",
    "# a. Hypoteser:\n",
    "# H0: μ_menn − μ_kvinner ≤ 30000\n",
    "# H1: μ_menn − μ_kvinner > 30000\n",
    "\n",
    "# Splitte data i menn (woman == 0) og kvinner (woman == 1)\n",
    "men <- subset(data, woman == 0)$loan.amount\n",
    "women <- subset(data, woman == 1)$loan.amount\n",
    "\n",
    "# Beregne statistikk\n",
    "mean_men <- mean(men)\n",
    "mean_women <- mean(women)\n",
    "sd_men <- sd(men)\n",
    "sd_women <- sd(women)\n",
    "n_men <- length(men)\n",
    "n_women <- length(women)\n",
    "\n",
    "# Estimert forskjell\n",
    "diff_means <- mean_men - mean_women\n",
    "\n",
    "# Standardfeil for forskjellen\n",
    "se_diff <- sqrt((sd_men^2 / n_men) + (sd_women^2 / n_women))\n",
    "\n",
    "# Nullhypotese-verdi\n",
    "mu_0 <- 30000\n",
    "\n",
    "# c. Testobservator\n",
    "t_stat <- (diff_means - mu_0) / se_diff\n",
    "\n",
    "# d. P-verdi for en enhalet test (greater)\n",
    "# Bruk Welch-approksimasjon for frihetsgrader\n",
    "df <- ( (sd_men^2 / n_men + sd_women^2 / n_women)^2 ) /\n",
    "      ( ((sd_men^2 / n_men)^2) / (n_men - 1) + ((sd_women^2 / n_women)^2) / (n_women - 1) )\n",
    "\n",
    "p_value <- 1 - pt(t_stat, df)\n",
    "\n",
    "# Resultater\n",
    "cat(\"Gj.sn. lån menn:\", mean_men, \"\\n\")\n",
    "cat(\"Gj.sn. lån kvinner:\", mean_women, \"\\n\")\n",
    "cat(\"Estimert forskjell:\", diff_means, \"\\n\")\n",
    "cat(\"t-verdi:\", t_stat, \"\\n\")\n",
    "cat(\"p-verdi:\", p_value, \"\\n\")\n",
    "\n",
    "# Konklusjon\n",
    "if (p_value < 0.05) {\n",
    "  cat(\"Vi forkaster H0 – menn får signifikant mer enn 30.000 mer i lån.\\n\")\n",
    "} else {\n",
    "  cat(\"Vi kan ikke forkaste H0 – ingen signifikant forskjell over 30.000.\\n\")\n",
    "}\n"
   ]
  },
  {
   "cell_type": "code",
   "execution_count": 3,
   "id": "41f5a13d",
   "metadata": {},
   "outputs": [
    {
     "name": "stderr",
     "output_type": "stream",
     "text": [
      "Your code contains a unicode char which cannot be displayed in your\n",
      "current locale and R will silently convert it to an escaped form when the\n",
      "R kernel executes this code. This can lead to subtle errors if you use\n",
      "such chars to do comparisons. For more information, please see\n",
      "https://github.com/IRkernel/repr/wiki/Problems-with-unicode-on-windows"
     ]
    },
    {
     "name": "stdout",
     "output_type": "stream",
     "text": [
      "Første 5 rader med loan/income:\n",
      "  X income loan.amount high.rate black woman loan_income_ratio\n",
      "1 1     54         239         0     1     0          4.425926\n",
      "2 2    144         285         0     0     0          1.979167\n",
      "3 3     79         227         0     0     1          2.873418\n",
      "4 4     61         199         0     0     1          3.262295\n",
      "5 5     37         160         1     0     1          4.324324\n",
      "\n",
      "Gj.sn. lån/inntekt for menn: 2.140012 \n",
      "Gj.sn. lån/inntekt for kvinner: 2.396515 \n",
      "\n",
      "Testobservator (t-verdi): -2.839157 \n",
      "p-verdi: 0.00469409 \n",
      "Konklusjon: Vi forkaster nullhypotesen på 1 % nivå – signifikant forskjell.\n",
      "\n",
      "Bruk av innebygd t.test() for bekreftelse:\n",
      "\n",
      "\tWelch Two Sample t-test\n",
      "\n",
      "data:  x and y\n",
      "t = -2.8392, df = 538.66, p-value = 0.004694\n",
      "alternative hypothesis: true difference in means is not equal to 0\n",
      "99 percent confidence interval:\n",
      " -0.49004238 -0.02296288\n",
      "sample estimates:\n",
      "mean of x mean of y \n",
      " 2.140012  2.396515 \n",
      "\n"
     ]
    }
   ],
   "source": [
    "# Oppgave 3: Lån som andel av inntekt\n",
    "\n",
    "# a. Last inn data og lag ny variabel\n",
    "data <- read.csv(\"subprime.csv\", sep = \";\", skip = 1)\n",
    "data$loan_income_ratio <- data$loan.amount / data$income\n",
    "cat(\"Første 5 rader med loan/income:\\n\")\n",
    "print(head(data, 5))\n",
    "\n",
    "# b. Finn og sammenlign gjennomsnitt\n",
    "x <- data$loan_income_ratio[data$woman == 0]  # menn\n",
    "y <- data$loan_income_ratio[data$woman == 1]  # kvinner\n",
    "\n",
    "mean_x <- mean(x)\n",
    "mean_y <- mean(y)\n",
    "\n",
    "cat(\"\\nGj.sn. lån/inntekt for menn:\", mean_x, \"\\n\")\n",
    "cat(\"Gj.sn. lån/inntekt for kvinner:\", mean_y, \"\\n\")\n",
    "\n",
    "# c. Hypoteser:\n",
    "# H0: μ_menn = μ_kvinner\n",
    "# H1: μ_menn ≠ μ_kvinner (tohalet test, 99 % konfidens)\n",
    "\n",
    "# d. Finn testobservator (t-verdi)\n",
    "diff_mean <- mean_x - mean_y\n",
    "se <- sqrt(var(x)/length(x) + var(y)/length(y))\n",
    "t_value <- diff_mean / se\n",
    "cat(\"\\nTestobservator (t-verdi):\", t_value, \"\\n\")\n",
    "\n",
    "# e. Beregn p-verdi og tolk\n",
    "df <- ( (var(x)/length(x) + var(y)/length(y))^2 ) / \n",
    "      ( ((var(x)/length(x))^2)/(length(x)-1) + ((var(y)/length(y))^2)/(length(y)-1) )\n",
    "p_value <- 2 * (1 - pt(abs(t_value), df))\n",
    "cat(\"p-verdi:\", p_value, \"\\n\")\n",
    "\n",
    "if (p_value < 0.01) {\n",
    "  cat(\"Konklusjon: Vi forkaster nullhypotesen på 1 % nivå – signifikant forskjell.\\n\")\n",
    "} else {\n",
    "  cat(\"Konklusjon: Vi kan ikke forkaste nullhypotesen – ingen signifikant forskjell.\\n\")\n",
    "}\n",
    "\n",
    "# f. Bruk t.test() for å dobbeltsjekke\n",
    "cat(\"\\nBruk av innebygd t.test() for bekreftelse:\\n\")\n",
    "result <- t.test(x, y, alternative = \"two.sided\", conf.level = 0.99)\n",
    "print(result)\n"
   ]
  },
  {
   "cell_type": "code",
   "execution_count": null,
   "id": "ebadce1b",
   "metadata": {},
   "outputs": [],
   "source": []
  }
 ],
 "metadata": {
  "kernelspec": {
   "display_name": "R",
   "language": "R",
   "name": "ir"
  },
  "language_info": {
   "codemirror_mode": "r",
   "file_extension": ".r",
   "mimetype": "text/x-r-source",
   "name": "R",
   "pygments_lexer": "r",
   "version": "3.6.1"
  }
 },
 "nbformat": 4,
 "nbformat_minor": 5
}
